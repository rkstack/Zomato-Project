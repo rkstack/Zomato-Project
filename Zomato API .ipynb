{
 "cells": [
  {
   "cell_type": "markdown",
   "metadata": {},
   "source": [
    "### Zomato Cuisine 1.1 "
   ]
  },
  {
   "cell_type": "markdown",
   "metadata": {},
   "source": [
    "Fetch the cuisine_id of ‘Mexican’ cuisine using Zomato API.\n",
    "Print the cuisine_id.\n",
    "Output Format:\n",
    "\n",
    "cuisine_id\n"
   ]
  },
  {
   "cell_type": "code",
   "execution_count": 1,
   "metadata": {},
   "outputs": [
    {
     "name": "stdout",
     "output_type": "stream",
     "text": [
      "73\n"
     ]
    }
   ],
   "source": [
    "import requests\n",
    "header_info={'Accept': 'application/json',\n",
    "             'user_key':'68a952b60155797d28def1585d888b9f'}\n",
    "\n",
    "jsondata=requests.get('https://developers.zomato.com/api/v2.1/cuisines',\n",
    "                      headers=header_info,params={'city_id':280})\n",
    "\n",
    "data=jsondata.json()\n",
    "for item in data['cuisines']:\n",
    "    if item['cuisine']['cuisine_name']=='Mexican':\n",
    "        print(item['cuisine']['cuisine_id'])\n",
    "        \n"
   ]
  },
  {
   "cell_type": "code",
   "execution_count": 2,
   "metadata": {},
   "outputs": [
    {
     "name": "stdout",
     "output_type": "stream",
     "text": [
      "73\n"
     ]
    }
   ],
   "source": [
    "import requests\n",
    "\n",
    "user_key='3754f0440b3026cde542ed69af9f499a'\n",
    "basic_api='https://developers.zomato.com/api/v2.1'\n",
    "params={'city_id':1} \n",
    "header={\"User-agent\": \"curl/7.43.0\",'Accept': 'application/json','user-key':user_key} \n",
    "\n",
    "response=requests.get(basic_api+'/cuisines',headers=header,params=params)\n",
    "\n",
    "cuisine_id=0 \n",
    "\n",
    "for i in response.json().get('cuisines'):\n",
    "    if(i.get('cuisine').get('cuisine_name')=='Mexican'):\n",
    "        cuisine_id=i.get('cuisine').get('cuisine_id') \n",
    "        print(cuisine_id)"
   ]
  },
  {
   "cell_type": "markdown",
   "metadata": {},
   "source": [
    "### Zomato Cuisine 1.3 "
   ]
  },
  {
   "cell_type": "markdown",
   "metadata": {},
   "source": [
    "Fetch the entityid and entitytype of place Connaught Place.\n",
    "Print the entityid and entitytype,\n",
    "Output Format:\n",
    "\n",
    "entity_type entity_id\n",
    "\n"
   ]
  },
  {
   "cell_type": "code",
   "execution_count": 12,
   "metadata": {},
   "outputs": [
    {
     "name": "stdout",
     "output_type": "stream",
     "text": [
      "subzone 104\n"
     ]
    }
   ],
   "source": [
    "import requests\n",
    "\n",
    "user_key='3754f0440b3026cde542ed69af9f499a'\n",
    "basic_api='https://developers.zomato.com/api/v2.1'\n",
    "header={\"User-agent\": \"curl/7.43.0\",'Accept': 'application/json','user-key':user_key}\n",
    "param={'query':'Connaught Place'}\n",
    "\n",
    "jsondata=requests.get(basic_api+'/locations',headers=header,params=param)\n",
    "data=jsondata.json().get('location_suggestions')\n",
    "print(data[0]['entity_type'],data[0]['entity_id'])\n"
   ]
  },
  {
   "cell_type": "markdown",
   "metadata": {},
   "source": [
    "### Zomato Cuisine 1.4"
   ]
  },
  {
   "cell_type": "markdown",
   "metadata": {},
   "source": [
    "Fetch the top 10 best-rated restaurant serving ‘Mexican’ cuisine present in Connaught Place.\n",
    "Print the restaurant name, user rating and restaurant id.\n",
    "Output Format:\n",
    "\n",
    "name_1 rating_1 id_1\n",
    "\n",
    "name_2 rating_2 id_2\n",
    "\n",
    "name_3 rating_3 id_3"
   ]
  },
  {
   "cell_type": "code",
   "execution_count": 4,
   "metadata": {},
   "outputs": [
    {
     "name": "stdout",
     "output_type": "stream",
     "text": [
      "38 Barracks 4.5 18241537\n",
      "Station Bar 4.5 18851371\n",
      "Master Of Malts 4.4 18391149\n",
      "Local 4.3 18382360\n",
      "The Junkyard Cafe 4.3 313256\n",
      "Ministry Of Beer 4.3 18418277\n",
      "The Darzi Bar & Kitchen 4.3 18423151\n",
      "Teddy Boy 4.3 18281985\n",
      "Lord Of The Drinks 4.3 312603\n",
      "Xero Degrees 4.3 18729557\n"
     ]
    }
   ],
   "source": [
    "import requests\n",
    "\n",
    "user_key='3754f0440b3026cde542ed69af9f499a'\n",
    "basic_api='https://developers.zomato.com/api/v2.1'\n",
    "header={\"User-agent\": \"curl/7.43.0\",'Accept': 'application/json','user-key':user_key}\n",
    "param={'entity_id':104,'entity_type':'subzone','count':10,'cuisines':73,'sort':'rating'} # use cuisines \n",
    "\n",
    "jsondata=requests.get(basic_api+'/search',headers=header,params=param)\n",
    "data=jsondata.json()['restaurants']\n",
    "\n",
    "for i in range (len(data)):\n",
    "    rest_dict=data[i]['restaurant']\n",
    "    print(rest_dict['name'],rest_dict['user_rating']['aggregate_rating'],rest_dict['R']['res_id'])"
   ]
  },
  {
   "cell_type": "markdown",
   "metadata": {},
   "source": [
    "### Zomato Cuisine 1.5 "
   ]
  },
  {
   "cell_type": "markdown",
   "metadata": {},
   "source": [
    "Fetch the category id of category type ‘Cafes’ using Zomato API.\n",
    "Print the category_id.\n",
    "Output Format:\n",
    "\n",
    "category_id\n",
    "\n"
   ]
  },
  {
   "cell_type": "code",
   "execution_count": 5,
   "metadata": {},
   "outputs": [
    {
     "name": "stdout",
     "output_type": "stream",
     "text": [
      "6\n"
     ]
    }
   ],
   "source": [
    "import requests\n",
    "\n",
    "user_key='3754f0440b3026cde542ed69af9f499a'\n",
    "basic_api='https://developers.zomato.com/api/v2.1'\n",
    "header={\"User-agent\": \"curl/7.43.0\",'Accept': 'application/json','user-key':user_key}\n",
    "param={}\n",
    "\n",
    "jsondata=requests.get(basic_api+'/categories',headers=header,params=param)\n",
    "data=jsondata.json().get('categories')\n",
    "\n",
    "for i in range(len(data)):\n",
    "    dictionary=data[i]['categories']\n",
    "    if dictionary['name']=='Cafes':\n",
    "        print(dictionary['id'])\n"
   ]
  },
  {
   "cell_type": "markdown",
   "metadata": {},
   "source": [
    "### Zomato Cuisine 1.6 "
   ]
  },
  {
   "cell_type": "markdown",
   "metadata": {},
   "source": [
    "Fetch the best-rated restaurant for ‘Mexican’ cuisine with category type ‘ Cafes’ present in Connaught Place using Zomato API.\n",
    "Print the restaurant name, user rating and restaurant id.\n",
    "Output Format:\n",
    "\n",
    "name_1 rating_1 id_1\n",
    "\n",
    "name_2 rating_2 id_2\n",
    "\n",
    "name_3 rating_3 id_3"
   ]
  },
  {
   "cell_type": "code",
   "execution_count": 6,
   "metadata": {},
   "outputs": [
    {
     "name": "stdout",
     "output_type": "stream",
     "text": [
      "Xero Degrees 4.3 18729557\n",
      "The Chai Story 3.8 18445782\n",
      "The Art House Restaurant 3.9 18863766\n",
      "Chaayos - Meri Wali Chai 4.2 18237315\n",
      "Cafe Coffee Day - The Square 3.9 303034\n",
      "Cafe Delhi Heights 4.2 18579363\n"
     ]
    }
   ],
   "source": [
    "import requests\n",
    "\n",
    "user_key='3754f0440b3026cde542ed69af9f499a'\n",
    "basic_api='https://developers.zomato.com/api/v2.1'\n",
    "header={\"User-agent\": \"curl/7.43.0\",'Accept': 'application/json','user-key':user_key}\n",
    "param={'entity_id':104,'entity_type':'subzone','cuisines':73,'category':6} # use cuisines , sorting not required\n",
    "\n",
    "jsondata=requests.get(basic_api+'/search',headers=header,params=param)\n",
    "data=jsondata.json()['restaurants']\n",
    "\n",
    "for i in range (len(data)):\n",
    "    rest_dict=data[i]['restaurant']\n",
    "    print(rest_dict['name'],rest_dict['user_rating']['aggregate_rating'],rest_dict['R']['res_id'])"
   ]
  },
  {
   "cell_type": "markdown",
   "metadata": {},
   "source": [
    "###  Zomato Cuisine 1.7 "
   ]
  },
  {
   "cell_type": "markdown",
   "metadata": {},
   "source": [
    "Fetch the latest review of the best-rated restaurant for ‘Mexican’ cuisine with Category type ‘Cafes’ present in Connaught Place using Zomato API.\n",
    "Print the name of user ,user rating and review text.\n",
    "Note :\n",
    "Due to limitation of basic API plan it, can only fetch 5 latest review\n",
    "Output Format:\n",
    "\n",
    "name1 user_rating1 review_text1\n",
    "\n",
    "name2 user_rating2 review_text2\n",
    "\n",
    "\n"
   ]
  },
  {
   "cell_type": "code",
   "execution_count": 7,
   "metadata": {},
   "outputs": [
    {
     "data": {
      "text/plain": [
       "{'code': 404,\n",
       " 'status': 'Not Found',\n",
       " 'message': 'This API has been disabled. For any further detail, please shoot a mail to reviews@zomato.com.'}"
      ]
     },
     "execution_count": 7,
     "metadata": {},
     "output_type": "execute_result"
    }
   ],
   "source": [
    "import requests\n",
    "\n",
    "user_key='3754f0440b3026cde542ed69af9f499a'\n",
    "basic_api='https://developers.zomato.com/api/v2.1'\n",
    "header={\"User-agent\": \"curl/7.43.0\",'Accept': 'application/json','user-key':user_key}\n",
    "param={'res_id':18729557} \n",
    "\n",
    "jsondata=requests.get(basic_api+'/reviews',headers=header,params=param)\n",
    "data=jsondata.json()\n",
    "data\n",
    "# for i in range (len(data)):\n",
    "#     rest_dict=data[i]['restaurant']\n",
    "#     print(rest_dict['name'],rest_dict['user_rating']['aggregate_rating'],rest_dict['R']['res_id'])"
   ]
  },
  {
   "cell_type": "markdown",
   "metadata": {},
   "source": [
    "Problem 2\n",
    "\"Pa Pa Ya\" is a modern Asian bistro & tapas bar from the House of Massive Restaurants and best described as a chic, modern and radical reinterpretation of Asian cuisine.\n",
    "You have heard from your friends that restaurant \"Pa Pa Ya\" in Delhi is quite good. So now you want to extract the information related to \"Pa Pa Ya\" using Zomato API.\n",
    "There is a list of questions related to the restaurant given in the next section.\n"
   ]
  },
  {
   "cell_type": "markdown",
   "metadata": {},
   "source": [
    "### Zomato Restaurant 2.2"
   ]
  },
  {
   "cell_type": "markdown",
   "metadata": {},
   "source": [
    "Fetch the details of \"Pa Pa Ya\" restaurant (ID: 18429148) using Zomato API.\n",
    "Print the user rating, the average cost for two, cuisines and address of \"Pa Pa Ya\" restaurant.\n",
    "Output Format:\n",
    "\n",
    "user_rating\n",
    "\n",
    "average_cost_for_two\n",
    "\n",
    "cuisines\n",
    "\n",
    "address\n",
    "\n"
   ]
  },
  {
   "cell_type": "code",
   "execution_count": 8,
   "metadata": {},
   "outputs": [
    {
     "name": "stdout",
     "output_type": "stream",
     "text": [
      "4.6\n",
      "2500\n",
      "Asian, Chinese, Thai, Japanese, Sushi, Malaysian, Momos, Beverages\n",
      "A-3, Select Citywalk, District Centre, Saket, New Delhi\n"
     ]
    }
   ],
   "source": [
    "import requests\n",
    "api_key=\"3754f0440b3026cde542ed69af9f499a\"\n",
    "base_api=\"https://developers.zomato.com/api/v2.1\"\n",
    "header={\"user_agent\": \"curl/7.43.0\",\"Accept\":\"application/json\",\"user_key\":api_key}\n",
    "param={\"res_id\":18429148}\n",
    "jsondata=requests.get(base_api+\"/restaurant\",headers=header,params=param)\n",
    "data=jsondata.json()\n",
    "print(data[\"user_rating\"][\"aggregate_rating\"])\n",
    "print(data[\"average_cost_for_two\"])\n",
    "print(data[\"cuisines\"])\n",
    "print(data[\"location\"][\"address\"])"
   ]
  },
  {
   "cell_type": "markdown",
   "metadata": {},
   "source": [
    "### Zomato Restaurant 2.3 "
   ]
  },
  {
   "cell_type": "markdown",
   "metadata": {},
   "source": [
    "Find out whether online table reservation is supported in \"Pa Pa Ya\" restaurant or not using Zomato API.\n",
    "Print 'yes' if online table reservation is supported else 'no'\n",
    "Note :\n",
    "In Zomato response JSON. 1=Yes and 0 = No\n",
    "Output Format:\n",
    "\n",
    "yes/no\n",
    "\n"
   ]
  },
  {
   "cell_type": "code",
   "execution_count": 9,
   "metadata": {},
   "outputs": [
    {
     "name": "stdout",
     "output_type": "stream",
     "text": [
      "yes\n"
     ]
    }
   ],
   "source": [
    "import requests\n",
    "api_key=\"3754f0440b3026cde542ed69af9f499a\"\n",
    "base_api=\"https://developers.zomato.com/api/v2.1\"\n",
    "header={\"user_agent\": \"curl/7.43.0\",\"Accept\":\"application/json\",\"user_key\":api_key}\n",
    "param={\"res_id\":18429148}\n",
    "jsondata=requests.get(base_api+\"/restaurant\",headers=header,params=param)\n",
    "data=jsondata.json()\n",
    "if data[\"is_table_reservation_supported\"]==1:\n",
    "    print('yes')\n",
    "else:\n",
    "    print('no')\n"
   ]
  },
  {
   "cell_type": "markdown",
   "metadata": {},
   "source": [
    "### Zomato Restaurant 2.4 "
   ]
  },
  {
   "cell_type": "markdown",
   "metadata": {},
   "source": [
    "Fetch the latest review of \"Pa Pa Ya\" restaurant using Zomato API.\n",
    "Print the name of the user, user rating and review text.\n",
    "Note :\n",
    "Due to the limitation of the basic API plan, it can only fetch 5 latest review\n",
    "Output Format:\n",
    "\n",
    "name1 user_rating1 review_text1\n",
    "\n",
    "name2 user_rating2 review_text2\n",
    "\n",
    "name3 user_rating3 review_text3\n",
    "\n",
    "name4 user_rating4 review_text4\n",
    "\n",
    "name5 user_rating5 review_text5\n",
    "\n"
   ]
  },
  {
   "cell_type": "code",
   "execution_count": 10,
   "metadata": {},
   "outputs": [
    {
     "data": {
      "text/plain": [
       "{'code': 404,\n",
       " 'status': 'Not Found',\n",
       " 'message': 'This API has been disabled. For any further detail, please shoot a mail to reviews@zomato.com.'}"
      ]
     },
     "execution_count": 10,
     "metadata": {},
     "output_type": "execute_result"
    }
   ],
   "source": [
    "import requests\n",
    "\n",
    "user_key='3754f0440b3026cde542ed69af9f499a'\n",
    "basic_api='https://developers.zomato.com/api/v2.1'\n",
    "header={\"User-agent\": \"curl/7.43.0\",'Accept': 'application/json','user-key':user_key}\n",
    "param={'res_id':18429148} \n",
    "\n",
    "jsondata=requests.get(basic_api+'/reviews',headers=header,params=param)\n",
    "data=jsondata.json()\n",
    "data\n",
    "# for i in range (len(data)):\n",
    "#     rest_dict=data[i]['restaurant']\n",
    "#     print(rest_dict['name'],rest_dict['user_rating']['aggregate_rating'],rest_dict['R']['res_id'])"
   ]
  },
  {
   "cell_type": "markdown",
   "metadata": {},
   "source": [
    "#### Zomato Distance Problem\n",
    "Distance is also a very important factor while selecting a restaurant. Suppose you are at Coding Ninjas and you want to select the restaurant which is near to you using Zomato API.\n",
    "Note down the latitude and longitude of Coding Ninjas using Google Maps\n",
    "There is a list of questions related to restaurant near me given in the next section.\n"
   ]
  },
  {
   "cell_type": "markdown",
   "metadata": {},
   "source": [
    "### Zomato distance 3.1 \n",
    "\n",
    "Fetch the cuisine_id of of cuisine ‘BBQ’ using Zomato API.\n",
    "Print the cuisine_id\n",
    "Output Format:\n",
    "\n",
    "cuisine_id\n",
    "\n"
   ]
  },
  {
   "cell_type": "code",
   "execution_count": 11,
   "metadata": {},
   "outputs": [
    {
     "name": "stdout",
     "output_type": "stream",
     "text": [
      "193\n"
     ]
    }
   ],
   "source": [
    "import requests\n",
    "header_info={'Accept': 'application/json',\n",
    "             'user_key':'68a952b60155797d28def1585d888b9f'}\n",
    "\n",
    "jsondata=requests.get('https://developers.zomato.com/api/v2.1/cuisines',\n",
    "                      headers=header_info,params={'city_id':280})\n",
    "\n",
    "data=jsondata.json()\n",
    "for item in data['cuisines']:\n",
    "    if item['cuisine']['cuisine_name']=='BBQ':\n",
    "        print(item['cuisine']['cuisine_id'])"
   ]
  },
  {
   "cell_type": "markdown",
   "metadata": {},
   "source": [
    "### This coding was done by @RK2021"
   ]
  }
 ],
 "metadata": {
  "kernelspec": {
   "display_name": "Python 3",
   "language": "python",
   "name": "python3"
  },
  "language_info": {
   "codemirror_mode": {
    "name": "ipython",
    "version": 3
   },
   "file_extension": ".py",
   "mimetype": "text/x-python",
   "name": "python",
   "nbconvert_exporter": "python",
   "pygments_lexer": "ipython3",
   "version": "3.8.5"
  }
 },
 "nbformat": 4,
 "nbformat_minor": 4
}
